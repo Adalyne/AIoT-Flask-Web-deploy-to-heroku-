{
  "nbformat": 4,
  "nbformat_minor": 0,
  "metadata": {
    "colab": {
      "provenance": []
    },
    "kernelspec": {
      "name": "python3",
      "display_name": "Python 3"
    },
    "language_info": {
      "name": "python"
    }
  },
  "cells": [
    {
      "cell_type": "code",
      "execution_count": null,
      "metadata": {
        "colab": {
          "base_uri": "https://localhost:8080/"
        },
        "id": "QtwH3KyK-1pa",
        "outputId": "69cac36b-684d-4f85-94a1-0cbaa89b67f8"
      },
      "outputs": [
        {
          "output_type": "stream",
          "name": "stdout",
          "text": [
            "Conv2d(3, 16, kernel_size=(3, 3), stride=(1, 1))\n",
            "torch.Size([16, 3, 3, 3]) torch.Size([16])\n"
          ]
        }
      ],
      "source": [
        "import torch\n",
        "import torch.nn as nn\n",
        "conv = nn.Conv2d(3, 16, kernel_size=3)\n",
        "print(conv)\n",
        "print(conv.weight.shape, conv.bias.shape)"
      ]
    },
    {
      "cell_type": "code",
      "source": [
        "from torchvision import datasets, transforms\n",
        "data_path = '../data-unversioned/p1ch7/'\n",
        "cifar10 = datasets.CIFAR10(data_path, train=True, download=True, transform=transforms.ToTensor())\n",
        "imgs = torch.stack([img_t for img_t, _ in cifar10], dim=3)"
      ],
      "metadata": {
        "colab": {
          "base_uri": "https://localhost:8080/"
        },
        "id": "k_ZtoA_bFkqq",
        "outputId": "f8b08662-44a1-494d-c055-f2c6a6bf299d"
      },
      "execution_count": null,
      "outputs": [
        {
          "output_type": "stream",
          "name": "stdout",
          "text": [
            "Downloading https://www.cs.toronto.edu/~kriz/cifar-10-python.tar.gz to ../data-unversioned/p1ch7/cifar-10-python.tar.gz\n"
          ]
        },
        {
          "output_type": "stream",
          "name": "stderr",
          "text": [
            "100%|██████████| 170498071/170498071 [00:02<00:00, 80349417.27it/s]\n"
          ]
        },
        {
          "output_type": "stream",
          "name": "stdout",
          "text": [
            "Extracting ../data-unversioned/p1ch7/cifar-10-python.tar.gz to ../data-unversioned/p1ch7/\n"
          ]
        }
      ]
    },
    {
      "cell_type": "code",
      "source": [
        "# Find mean and var\n",
        "mean = imgs.view(3, -1).mean(dim=1)\n",
        "var = imgs.view(3, -1).std(dim=1)\n",
        "mean = mean.detach().numpy()\n",
        "var = var.detach().numpy()"
      ],
      "metadata": {
        "id": "Y-dKP49EO7AC"
      },
      "execution_count": null,
      "outputs": []
    },
    {
      "cell_type": "code",
      "source": [
        "transformed_cifer10 = datasets.CIFAR10(\n",
        "    data_path, train = True, download=False,\n",
        "    transform = transforms.Compose([\n",
        "        transforms.ToTensor(),\n",
        "        transforms.Normalize(mean,var)\n",
        "    ])\n",
        ")"
      ],
      "metadata": {
        "id": "QMqAyFnyCiXn"
      },
      "execution_count": null,
      "outputs": []
    },
    {
      "cell_type": "code",
      "source": [
        "label_map = {0: 0, 2: 1}\n",
        "class_names = ['airplane', 'bird']\n",
        "cifar2 = [(img, label_map[label]) for img, label in transformed_cifer10 if label in [0,2]]"
      ],
      "metadata": {
        "id": "SF4Ol3f4RXPK"
      },
      "execution_count": null,
      "outputs": []
    },
    {
      "cell_type": "code",
      "source": [
        "print(cifar2[0])"
      ],
      "metadata": {
        "id": "5rKsz54TVoE4",
        "colab": {
          "base_uri": "https://localhost:8080/"
        },
        "outputId": "4bbf3537-bdbc-4294-ea48-bbe4d3414df5"
      },
      "execution_count": null,
      "outputs": [
        {
          "output_type": "stream",
          "name": "stdout",
          "text": [
            "(tensor([[[ 0.6142, -0.3224, -0.1160,  ..., -0.2589, -0.2747, -0.5446],\n",
            "         [ 0.6619, -0.1477, -0.8462,  ..., -0.3224, -0.3224, -0.5764],\n",
            "         [ 0.2332,  0.2650, -0.1001,  ..., -0.3382, -0.6557, -0.7510],\n",
            "         ...,\n",
            "         [ 0.2174,  0.2650,  0.1539,  ..., -0.5764, -0.4494,  0.0110],\n",
            "         [ 0.5984,  0.4396,  0.3285,  ..., -0.6399, -0.4335,  0.0269],\n",
            "         [ 0.9159,  0.8047,  0.4555,  ..., -0.4970, -0.5446, -0.0525]],\n",
            "\n",
            "        [[ 1.3376,  0.2746,  0.4034,  ...,  0.3873,  0.3873,  0.0974],\n",
            "         [ 1.4503,  0.5967, -0.2247,  ...,  0.3068,  0.3068,  0.0652],\n",
            "         [ 1.0960,  1.1282,  0.6450,  ...,  0.2585, -0.0475, -0.1280],\n",
            "         ...,\n",
            "         [ 0.4034,  0.5162,  0.5323,  ...,  0.1780,  0.4034,  0.8544],\n",
            "         [ 0.5484,  0.6611,  0.6611,  ...,  0.1135,  0.4034,  0.8866],\n",
            "         [ 0.4840,  0.9511,  0.5001,  ...,  0.1780,  0.1619,  0.7578]],\n",
            "\n",
            "        [[-0.4477, -0.7925, -0.1929,  ..., -0.6126, -0.6726, -0.8525],\n",
            "         [-0.4477, -0.9724, -1.0624,  ..., -0.5227, -0.6276, -0.8525],\n",
            "         [-0.7326, -0.7176, -0.5227,  ..., -0.4477, -0.8375, -0.9724],\n",
            "         ...,\n",
            "         [-0.4927, -0.5976, -0.6276,  ..., -1.2872, -1.3472, -0.9724],\n",
            "         [-0.4327, -0.4777, -0.3578,  ..., -1.4222, -1.3022, -0.9874],\n",
            "         [-0.1779,  0.0320, -0.2079,  ..., -1.2723, -1.3172, -1.0474]]]), 1)\n"
          ]
        }
      ]
    },
    {
      "cell_type": "code",
      "source": [
        "img, _ = cifar2[0]\n",
        "#print(img)\n",
        "conv = nn.Conv2d(3, 16, kernel_size=3, padding=1) #padding會在圖像周圍多一圈幽靈像素\n",
        "output = conv(img.unsqueeze(0))\n",
        "print(output)\n",
        "img.unsqueeze(0).shape, output.shape"
      ],
      "metadata": {
        "id": "OQ-ASdknVCmU",
        "colab": {
          "base_uri": "https://localhost:8080/"
        },
        "outputId": "45e5fc86-2a50-40ae-a030-77bb3c94b38b"
      },
      "execution_count": null,
      "outputs": [
        {
          "output_type": "stream",
          "name": "stdout",
          "text": [
            "tensor([[[[ 0.4015,  0.7104,  0.2065,  ...,  0.2481,  0.2519,  0.1833],\n",
            "          [ 0.4249,  0.5488,  0.3625,  ...,  0.1895,  0.2074,  0.0688],\n",
            "          [ 0.3258,  0.3754,  0.3584,  ...,  0.2010,  0.1593, -0.0620],\n",
            "          ...,\n",
            "          [ 0.1888,  0.2824,  0.2879,  ...,  0.0834,  0.1544,  0.5636],\n",
            "          [ 0.0288,  0.2981,  0.2762,  ...,  0.1538,  0.0387,  0.5412],\n",
            "          [ 0.0194,  0.1603,  0.2228,  ..., -0.0340, -0.0586,  0.1380]],\n",
            "\n",
            "         [[-0.2515,  0.4286, -0.1435,  ...,  0.0439, -0.0443, -0.1231],\n",
            "          [-0.3023,  0.2193,  0.2620,  ..., -0.0849, -0.1237, -0.2481],\n",
            "          [-0.2426, -0.1882,  0.0484,  ..., -0.0881, -0.1109, -0.3787],\n",
            "          ...,\n",
            "          [-0.0567,  0.0700,  0.1098,  ..., -0.3838, -0.3313, -0.2159],\n",
            "          [-0.1793,  0.1156,  0.1404,  ..., -0.2469, -0.4021, -0.2565],\n",
            "          [-0.1001, -0.0381,  0.1815,  ..., -0.1397, -0.1676, -0.1013]],\n",
            "\n",
            "         [[-0.0358, -0.3424,  0.0456,  ...,  0.0871,  0.1001,  0.0716],\n",
            "          [ 0.3326, -0.0340,  0.4548,  ...,  0.0246,  0.0722, -0.0646],\n",
            "          [ 0.3421,  0.1773, -0.2013,  ...,  0.0661,  0.0654,  0.0363],\n",
            "          ...,\n",
            "          [ 0.2247,  0.1975,  0.2164,  ...,  0.1548,  0.2148,  0.0723],\n",
            "          [ 0.2232,  0.0256,  0.0138,  ...,  0.0457,  0.1601, -0.0147],\n",
            "          [ 0.0752, -0.0960, -0.0264,  ...,  0.2944,  0.3772,  0.3674]],\n",
            "\n",
            "         ...,\n",
            "\n",
            "         [[ 0.4396, -0.0687,  0.2940,  ...,  0.2774,  0.3147,  0.3165],\n",
            "          [ 0.8047,  0.5227,  0.4045,  ...,  0.4105,  0.4759,  0.5542],\n",
            "          [ 0.7751,  1.0886,  0.4996,  ...,  0.3421,  0.4892,  0.6579],\n",
            "          ...,\n",
            "          [ 0.3409,  0.3918,  0.4436,  ...,  1.0269,  1.1496,  0.8287],\n",
            "          [ 0.5492,  0.3015,  0.1940,  ...,  0.9572,  1.1592,  0.8497],\n",
            "          [ 0.1599,  0.1233,  0.0387,  ...,  0.7929,  0.7910,  0.5562]],\n",
            "\n",
            "         [[ 0.4219, -0.0503, -0.0025,  ...,  0.1466,  0.2273,  0.1451],\n",
            "          [ 0.3850,  0.1064, -0.0421,  ...,  0.0802,  0.1763, -0.1168],\n",
            "          [ 0.2877,  0.1169, -0.3088,  ...,  0.1561,  0.1852, -0.1096],\n",
            "          ...,\n",
            "          [ 0.1309,  0.1036,  0.0491,  ...,  0.0744, -0.0664, -0.0227],\n",
            "          [ 0.0875,  0.0289, -0.0725,  ...,  0.0496, -0.1169, -0.0530],\n",
            "          [ 0.1370,  0.1029,  0.1334,  ...,  0.2205,  0.0980, -0.0950]],\n",
            "\n",
            "         [[ 0.3352, -0.1999,  0.2054,  ...,  0.1053,  0.1658,  0.0489],\n",
            "          [ 0.6031,  0.1573, -0.2794,  ...,  0.1803,  0.2812,  0.2148],\n",
            "          [ 0.4775,  0.5056, -0.1203,  ...,  0.2102,  0.3019,  0.2289],\n",
            "          ...,\n",
            "          [ 0.3065,  0.2343,  0.2033,  ...,  0.5199,  0.4344,  0.2353],\n",
            "          [ 0.5158,  0.1511,  0.0607,  ...,  0.4019,  0.4600,  0.2789],\n",
            "          [ 0.3030,  0.4827,  0.2832,  ...,  0.2170,  0.0559,  0.0385]]]],\n",
            "       grad_fn=<ConvolutionBackward0>)\n"
          ]
        },
        {
          "output_type": "execute_result",
          "data": {
            "text/plain": [
              "(torch.Size([1, 3, 32, 32]), torch.Size([1, 16, 32, 32]))"
            ]
          },
          "metadata": {},
          "execution_count": 37
        }
      ]
    },
    {
      "cell_type": "code",
      "source": [
        "from matplotlib import pyplot as plt\n",
        "ax1 = plt.subplot(1, 2, 1)\n",
        "plt.title('output')\n",
        "plt.imshow(output[0, 0].detach(), cmap='gray') #detach()是將tensor轉換成numpy型態，plt內設的格式用numpy\n",
        "plt.subplot(1, 2, 2, sharex=ax1, sharey=ax1)\n",
        "plt.imshow(img.mean(0), cmap='gray')\n",
        "plt.title('input')\n",
        "plt.show()"
      ],
      "metadata": {
        "colab": {
          "base_uri": "https://localhost:8080/",
          "height": 308
        },
        "id": "Ya1_XPaKWFaE",
        "outputId": "64b39e73-de59-4092-dffa-1451294fcf8c"
      },
      "execution_count": null,
      "outputs": [
        {
          "output_type": "display_data",
          "data": {
            "text/plain": [
              "<Figure size 640x480 with 2 Axes>"
            ],
            "image/png": "[encoded data removed]"
          },
          "metadata": {}
        }
      ]
    },
    {
      "cell_type": "code",
      "source": [
        "with torch.no_grad():\n",
        "    conv.bias.zero_()\n",
        "with torch.no_grad():\n",
        "    conv.weight.fill_(1.0 / 9.0)\n",
        "\n",
        "output = conv(img.unsqueeze(0))\n",
        "\n",
        "ax1 = plt.subplot(1, 2, 1)\n",
        "plt.title('Output')\n",
        "plt.imshow(output[0, 0].detach(), cmap = 'gray')\n",
        "plt.subplot(1, 2, 2, sharex = ax1, sharey = ax1)\n",
        "plt.imshow(img.mean(0), cmap = 'gray')\n",
        "plt.title('Input')\n",
        "plt.show()"
      ],
      "metadata": {
        "colab": {
          "base_uri": "https://localhost:8080/",
          "height": 308
        },
        "id": "yi1WGhKjH0D3",
        "outputId": "8dec6146-e296-429c-da90-80f36d40efc7"
      },
      "execution_count": null,
      "outputs": [
        {
          "output_type": "display_data",
          "data": {
            "text/plain": [
              "<Figure size 640x480 with 2 Axes>"
            ],
            "image/png": "[encoded data removed]"
          },
          "metadata": {}
        }
      ]
    },
    {
      "cell_type": "markdown",
      "source": [
        "Pooling"
      ],
      "metadata": {
        "id": "Waqdi_SDYnW4"
      }
    },
    {
      "cell_type": "code",
      "source": [
        "pool = nn.MaxPool2d(2)\n",
        "output = pool(img.unsqueeze(0))\n",
        "img.unsqueeze(0).shape, output.shape"
      ],
      "metadata": {
        "colab": {
          "base_uri": "https://localhost:8080/"
        },
        "id": "OkmXBf-hYo0-",
        "outputId": "18e7eb73-89ee-415e-f193-cba951ae1878"
      },
      "execution_count": null,
      "outputs": [
        {
          "output_type": "execute_result",
          "data": {
            "text/plain": [
              "(torch.Size([1, 3, 32, 32]), torch.Size([1, 3, 16, 16]))"
            ]
          },
          "metadata": {},
          "execution_count": 40
        }
      ]
    },
    {
      "cell_type": "markdown",
      "source": [
        "nn.Module"
      ],
      "metadata": {
        "id": "jLd2NE-yZIDq"
      }
    },
    {
      "cell_type": "code",
      "source": [
        "import torch.nn.functional as F\n",
        "class Net(nn.Module):\n",
        "    def __init__(self):\n",
        "        super().__init__()\n",
        "        self.conv1 = nn.Conv2d(3, 16, kernel_size=3, padding=1)\n",
        "        self.act = nn.Tanh()\n",
        "        self.pool = nn.MaxPool2d(2)\n",
        "        self.conv2 = nn.Conv2d(16, 8, kernel_size=3, padding=1)\n",
        "        self.fc1 = nn.Linear(8*8*8, 32)\n",
        "        self.fc2 = nn.Linear(32, 2)\n",
        "\n",
        "    def forward(self, x):\n",
        "        out = self.pool(self.act(self.conv1(x)))\n",
        "        out = self.pool(self.act(self.conv2(out)))\n",
        "        out = out.view(-1, 8*8*8)\n",
        "        out = self.act(self.fc1(out))\n",
        "        out = self.fc2(out)\n",
        "        return out"
      ],
      "metadata": {
        "id": "G6NGpH3dZLOJ"
      },
      "execution_count": null,
      "outputs": []
    },
    {
      "cell_type": "code",
      "source": [
        "import datetime\n",
        "\n",
        "def training_loop(n_epochs, optimizer, model, loss_fn, train_loader):\n",
        "    for epoch in range(1, n_epochs+1):\n",
        "        loss_train = 0.0\n",
        "        for imgs, labels in train_loader:\n",
        "            outputs = model(imgs)\n",
        "            loss = loss_fn(outputs, labels)\n",
        "            optimizer.zero_grad()\n",
        "            loss.backward()\n",
        "            optimizer.step()\n",
        "            loss_train += loss.item() #item()將損失轉換為Python的數字\n",
        "\n",
        "        if epoch == 1 or epoch%10 == 0:\n",
        "            print('{} Epoch{}, Training loss {}'.format(datetime.datetime.now(), epoch, loss_train/len(train_loader)))\n",
        "\n",
        "train_loader = torch.utils.data.DataLoader(cifar2, batch_size=64, shuffle=True)\n",
        "model = Net()\n",
        "optimizer = torch.optim.SGD(model.parameters(), lr=1e-2)\n",
        "loss_fn = nn.CrossEntropyLoss()\n",
        "\n",
        "training_loop(n_epochs = 100,\n",
        "              optimizer = optimizer,\n",
        "              model = model,\n",
        "              loss_fn = loss_fn,\n",
        "              train_loader = train_loader\n",
        "              )\n"
      ],
      "metadata": {
        "colab": {
          "base_uri": "https://localhost:8080/"
        },
        "id": "PcgYdjcuZMhl",
        "outputId": "25931759-49a0-4e15-8cff-cc418d52b6f5"
      },
      "execution_count": null,
      "outputs": [
        {
          "output_type": "stream",
          "name": "stdout",
          "text": [
            "2024-01-24 10:10:21.568138 Epoch1, Training loss 0.5560431972051122\n",
            "2024-01-24 10:11:03.764025 Epoch10, Training loss 0.33147653529218807\n",
            "2024-01-24 10:11:52.056976 Epoch20, Training loss 0.2959347441317929\n",
            "2024-01-24 10:12:38.615387 Epoch30, Training loss 0.2700299079630785\n",
            "2024-01-24 10:13:25.933443 Epoch40, Training loss 0.24776223164265324\n",
            "2024-01-24 10:14:12.374440 Epoch50, Training loss 0.2298724197183445\n",
            "2024-01-24 10:14:58.759953 Epoch60, Training loss 0.2114326920194231\n",
            "2024-01-24 10:15:45.053731 Epoch70, Training loss 0.19766993953543863\n",
            "2024-01-24 10:16:31.190062 Epoch80, Training loss 0.18322364416471712\n",
            "2024-01-24 10:17:17.887660 Epoch90, Training loss 0.1686647323428825\n",
            "2024-01-24 10:18:04.304350 Epoch100, Training loss 0.15414239565847784\n"
          ]
        }
      ]
    },
    {
      "cell_type": "markdown",
      "source": [
        "nn.Module函數式"
      ],
      "metadata": {
        "id": "IfM0EcdoqVBA"
      }
    },
    {
      "cell_type": "code",
      "source": [
        "import torch.nn.functional as F\n",
        "class Net_F(nn.Module):\n",
        "    def __init__(self):\n",
        "        super().__init__()\n",
        "        self.conv1 = nn.Conv2d(3, 16, kernel_size=3, padding=1)\n",
        "        self.conv2 = nn.Conv2d(16, 8, kernel_size=3, padding=1)\n",
        "        self.fc1 = nn.Linear(8*8*8, 32)\n",
        "        self.fc2 = nn.Linear(32, 2)\n",
        "\n",
        "    def forward(self, x):\n",
        "        out = F.max_pool2d(torch.tanh(self.conv1(x)), 2)\n",
        "        out = F.max_pool2d(torch.tanh(self.conv2(out)), 2)\n",
        "        out = out.view(-1, 8*8*8)\n",
        "        out = torch.tanh(self.fc1(out))\n",
        "        out = self.fc2(out)\n",
        "        return out"
      ],
      "metadata": {
        "id": "ftFe5oa2ok0F"
      },
      "execution_count": null,
      "outputs": []
    },
    {
      "cell_type": "code",
      "source": [
        "def training_loop(n_epochs, optimizer, model, loss_fn, train_loader):\n",
        "    for epoch in range(1, n_epochs+1):\n",
        "        loss_train = 0.0\n",
        "        for imgs, labels in train_loader:\n",
        "            outputs = model(imgs)\n",
        "            loss = loss_fn(outputs, labels)\n",
        "            optimizer.zero_grad()\n",
        "            loss.backward()\n",
        "            optimizer.step()\n",
        "            loss_train += loss.item() #item()將損失轉換為Python的數字\n",
        "\n",
        "        if epoch == 1 or epoch%10 == 0:\n",
        "            print('{} Epoch{}, Training loss {}'.format(datetime.datetime.now(), epoch, loss_train/len(train_loader)))\n",
        "\n",
        "train_loader = torch.utils.data.DataLoader(cifar2, batch_size=64, shuffle=True)\n",
        "model = Net_F()\n",
        "optimizer = torch.optim.SGD(model.parameters(), lr=1e-2)\n",
        "loss_fn = nn.CrossEntropyLoss()\n",
        "\n",
        "training_loop(n_epochs = 100,\n",
        "              optimizer = optimizer,\n",
        "              model = model,\n",
        "              loss_fn = loss_fn,\n",
        "              train_loader = train_loader\n",
        "              )"
      ],
      "metadata": {
        "colab": {
          "base_uri": "https://localhost:8080/"
        },
        "id": "IQ0UuU-MqSna",
        "outputId": "7eaff2d9-5d8c-4cf6-bf98-66c342769d7d"
      },
      "execution_count": null,
      "outputs": [
        {
          "output_type": "stream",
          "name": "stdout",
          "text": [
            "2024-01-24 10:18:08.772533 Epoch1, Training loss 0.561191823262318\n",
            "2024-01-24 10:18:50.811067 Epoch10, Training loss 0.32436472234452607\n",
            "2024-01-24 10:19:36.664163 Epoch20, Training loss 0.2879610694707579\n",
            "2024-01-24 10:20:27.391387 Epoch30, Training loss 0.26217054869908435\n",
            "2024-01-24 10:21:14.082473 Epoch40, Training loss 0.2446553058874835\n",
            "2024-01-24 10:22:00.570478 Epoch50, Training loss 0.22837990194938745\n",
            "2024-01-24 10:22:47.419348 Epoch60, Training loss 0.21143518720462823\n",
            "2024-01-24 10:23:34.297346 Epoch70, Training loss 0.19976975327464425\n",
            "2024-01-24 10:24:20.606665 Epoch80, Training loss 0.1843104875960927\n",
            "2024-01-24 10:25:06.869102 Epoch90, Training loss 0.17127999454546886\n",
            "2024-01-24 10:25:53.436718 Epoch100, Training loss 0.15843941707899617\n"
          ]
        }
      ]
    },
    {
      "cell_type": "code",
      "source": [
        "cifar10_val = datasets.CIFAR10(data_path, train=False, download=False,\n",
        "        transform = transforms.Compose([\n",
        "        transforms.ToTensor(),\n",
        "        transforms.Normalize(mean,var)\n",
        "    ]))\n",
        "cifar2_val =[(img, label_map[label]) for img, label in cifar10_val if label in [0, 2]]\n",
        "train_loader = torch.utils.data.DataLoader(cifar2, batch_size=64, shuffle=False)\n",
        "val_loader = torch.utils.data.DataLoader(cifar2_val, batch_size=64, shuffle=False)\n",
        "\n",
        "def validate(model, train_loader, val_loader):\n",
        "    for name, loader in [('train', train_loader), ('val', val_loader)]:\n",
        "        correct = 0\n",
        "        total = 0\n",
        "        with torch.no_grad():\n",
        "            for imgs, labels in loader:\n",
        "                outputs = model(imgs)\n",
        "                _, predicted = torch.max(outputs, dim=1)\n",
        "                total += labels.shape[0]\n",
        "                correct += int((predicted == labels).sum())\n",
        "        print('Accracy {}: {:.2f}'.format(name, correct/total))\n",
        "\n",
        "validate(model, train_loader, val_loader)"
      ],
      "metadata": {
        "colab": {
          "base_uri": "https://localhost:8080/"
        },
        "id": "2gdOvFlwV7M-",
        "outputId": "a805c4ee-e938-472d-a2e1-46f99d2472d6"
      },
      "execution_count": null,
      "outputs": [
        {
          "output_type": "stream",
          "name": "stdout",
          "text": [
            "Accracy train: 0.94\n",
            "Accracy val: 0.89\n"
          ]
        }
      ]
    },
    {
      "cell_type": "markdown",
      "source": [
        "儲存與匯入模型參數"
      ],
      "metadata": {
        "id": "ErEjEtEqfVZB"
      }
    },
    {
      "cell_type": "code",
      "source": [
        "torch.save(model.state_dict(), data_path + 'birds_vs_airplanes.pt')\n",
        "#只記錄參數，未紀錄模型架構"
      ],
      "metadata": {
        "id": "Uhr4rbj1faSi"
      },
      "execution_count": null,
      "outputs": []
    },
    {
      "cell_type": "code",
      "source": [
        "loaded_model = Net() #確保在儲存參數之後，Net類別的定義未被更改\n",
        "loaded_model.load_state_dict(torch.load(data_path + 'birds_vs_airplanes.pt'))\n"
      ],
      "metadata": {
        "colab": {
          "base_uri": "https://localhost:8080/"
        },
        "id": "EeBUK0pSfpME",
        "outputId": "ca4520c6-9b1c-48d9-90ed-5778d4043b61"
      },
      "execution_count": null,
      "outputs": [
        {
          "output_type": "execute_result",
          "data": {
            "text/plain": [
              "<All keys matched successfully>"
            ]
          },
          "metadata": {},
          "execution_count": 47
        }
      ]
    },
    {
      "cell_type": "markdown",
      "source": [
        "在GPU上訓練"
      ],
      "metadata": {
        "id": "Wsmj-KWagVDh"
      }
    },
    {
      "cell_type": "code",
      "source": [
        "device = (torch.device('cuda') if torch.cuda.is_available() else torch.device('cpu'))\n",
        "print(f'Training on device {device}.')"
      ],
      "metadata": {
        "colab": {
          "base_uri": "https://localhost:8080/"
        },
        "id": "zYyXuhf1gUtY",
        "outputId": "5a58afff-b1d9-4956-f08b-ba18e09ed99a"
      },
      "execution_count": null,
      "outputs": [
        {
          "output_type": "stream",
          "name": "stdout",
          "text": [
            "Training on device cpu.\n"
          ]
        }
      ]
    },
    {
      "cell_type": "code",
      "source": [
        "import datetime\n",
        "\n",
        "def training_loop(n_epochs, optimizer, model, loss_fn, train_loader):\n",
        "    for epoch in range(1, n_epochs+1):\n",
        "        loss_train = 0.0\n",
        "        for imgs, labels in train_loader:\n",
        "            imgs = imgs.to(device = device)\n",
        "            labels = labels.to(device = device)\n",
        "            outputs = model(imgs)\n",
        "            loss = loss_fn(outputs, labels)\n",
        "\n",
        "            optimizer.zero_grad()\n",
        "            loss.backward()\n",
        "            optimizer.step()\n",
        "\n",
        "            loss_train += loss.item()\n",
        "        if epoch == 1 or epoch % 10 == 0:\n",
        "            print('{} Epoch {}, Training loss{}'.format(datetime.datetime.now(), epoch, loss_train/len(train_loader)))\n",
        "\n",
        "train_loader = torch.utils.data.DataLoader(cifar2, batch_size=64, shuffle=True)\n",
        "model = Net().to(device = device)\n",
        "optimizer = torch.optim.SGD(model.parameters(), lr=1e-2)\n",
        "loss_fn = nn.CrossEntropyLoss()\n",
        "\n",
        "training_loop(n_epochs = 100,\n",
        "        optimizer = optimizer,\n",
        "        model = model,\n",
        "        loss_fn = loss_fn,\n",
        "        train_loader = train_loader,\n",
        "        )"
      ],
      "metadata": {
        "colab": {
          "base_uri": "https://localhost:8080/"
        },
        "id": "-7z0B65kgw5v",
        "outputId": "b953c2e1-6cca-4c35-9dbb-f8cc81d09be6"
      },
      "execution_count": null,
      "outputs": [
        {
          "output_type": "stream",
          "name": "stdout",
          "text": [
            "2024-01-24 10:26:05.400402 Epoch 1, Training loss0.5675109317348261\n",
            "2024-01-24 10:26:46.940363 Epoch 10, Training loss0.3430965224838561\n",
            "2024-01-24 10:27:33.135492 Epoch 20, Training loss0.28781458175486063\n",
            "2024-01-24 10:28:19.312134 Epoch 30, Training loss0.25920344632901965\n",
            "2024-01-24 10:29:05.578113 Epoch 40, Training loss0.23940537779764004\n",
            "2024-01-24 10:29:51.944838 Epoch 50, Training loss0.22581820783151943\n",
            "2024-01-24 10:30:37.748308 Epoch 60, Training loss0.21002103654062673\n",
            "2024-01-24 10:31:24.157638 Epoch 70, Training loss0.19520974391774767\n",
            "2024-01-24 10:32:10.335704 Epoch 80, Training loss0.18190448783385527\n",
            "2024-01-24 10:32:56.923243 Epoch 90, Training loss0.1709415989032217\n",
            "2024-01-24 10:33:42.931763 Epoch 100, Training loss0.15588949957660808\n"
          ]
        }
      ]
    },
    {
      "cell_type": "code",
      "source": [
        "loader_model = Net().to(device=device)\n",
        "loader_model.load_state_dict(torch.load(data_path + 'birds_vs_airplanes.pt', map_location = device))"
      ],
      "metadata": {
        "colab": {
          "base_uri": "https://localhost:8080/"
        },
        "id": "o25qr4IxjNi0",
        "outputId": "17400ba3-ef25-493d-ebd2-d514d22495fc"
      },
      "execution_count": null,
      "outputs": [
        {
          "output_type": "execute_result",
          "data": {
            "text/plain": [
              "<All keys matched successfully>"
            ]
          },
          "metadata": {},
          "execution_count": 50
        }
      ]
    },
    {
      "cell_type": "markdown",
      "source": [
        "# 增加模型的記憶容量：寬度"
      ],
      "metadata": {
        "id": "l60cU_GdjmpP"
      }
    },
    {
      "cell_type": "code",
      "source": [
        "class NetWidth(nn.Module):\n",
        "    def __init__(self, n_channel):\n",
        "        super().__init__()\n",
        "        self,n_channel = n_channel\n",
        "        self.conv1 = nn.Conv2d(3, n_channel, kernel_size=3, padding=1)\n",
        "        self.conv2 = nn.Conv2d(n_channel, n_channel//2, kernel_size=3, padding=1)\n",
        "        self.fc1 = nn.Linear(8*8*n_channel//2, 32)\n",
        "        self.fc2 = nn.Linear(n_channel, 2)\n",
        "\n",
        "    def forward(self, x):\n",
        "        out = F.max_pool2d(torch.tanh(self.conv1(x)), 2)\n",
        "        out = F.max_pool2d(torch.tanh(self.con2(out)), 2)\n",
        "        out = out.view(-1, 8*8*self.n_channel//2)\n",
        "        out = torch.tanh(self.fnc1(out))\n",
        "        out = self.fc2(out)\n",
        "        return out"
      ],
      "metadata": {
        "id": "-lNy4dKdjmLU"
      },
      "execution_count": null,
      "outputs": []
    },
    {
      "cell_type": "markdown",
      "source": [
        "###約束模型參數：權重懲罰機制(weight penalities)  \n",
        "懲罰較大的權重，為了讓損失值得變化能夠更加平滑  \n",
        "最常見的有L2常規化(取模型權重的平方和)及L1常規化(取模型權重的絕對值總和)  \n",
        "兩者皆呈上一個小因子lambda，該因子為訓練前設定好的參數  "
      ],
      "metadata": {
        "id": "uc8QH3jHmH3j"
      }
    },
    {
      "cell_type": "code",
      "source": [
        "def training_loop_l2reg(n_epochs, optimizer, model, loss_fn, train_loader):\n",
        "    for epoch in range(1, n_epochs+1):\n",
        "        loss_train =0.0\n",
        "        for imgs, labels in train_loader:\n",
        "            imgs = imgs.to(device = device)\n",
        "            labels = labels.to(device = device)\n",
        "            outputs = model(imgs)\n",
        "            loss = loss_fn(outputs, labels)\n",
        "\n",
        "            l2_lambda = 0.001\n",
        "            l2_norm = sum(p.pow(2.0).sum() for p in model.parameters()) # if using l1 normalization, u only change pow() to abs()\n",
        "            loss = loss + l2_lambda * l2_norm\n",
        "\n",
        "            optimizer.zero_grad()\n",
        "            loss.backward()\n",
        "            optimizer.step()\n",
        "\n",
        "            loss_train += loss.item()\n",
        "\n",
        "        if epoch == 1 or epoch % 10 == 0:\n",
        "            print('{} Epoch {}, Training loss {}'.format(datetime.datetime.now(), epoch, loss_train/len(train_loader)))"
      ],
      "metadata": {
        "id": "44q7pgwOmhBC"
      },
      "execution_count": null,
      "outputs": []
    },
    {
      "cell_type": "markdown",
      "source": [
        "### 避免過度依賴單一輸入資料：丟棄法(DropOut)\n",
        "在每次訓練過程中，雖機將一部份神經元的輸出歸零(相當於丟棄這些神經元)  \n",
        "原因  \n",
        "1. 進而避免造成在過度適配會發生的記憶效應\n",
        "2. 丟棄法能在模型所產生的特徵中加入干擾"
      ],
      "metadata": {
        "id": "V5nnNA7Ypv6x"
      }
    },
    {
      "cell_type": "code",
      "source": [
        "class NetDropout(nn.Module):\n",
        "    def __init__(self, n_chansl):\n",
        "        super().__init__()\n",
        "        self.n_chansl = n_chansl\n",
        "        self.conv1 = nn.Conv2d(3, n_chansl, kernel_size=3, padding=1)\n",
        "        self.conv1_dropout = nn.Dropout2d(p=0.4) #丟棄機率為0.4,留下大約60%神經元\n",
        "        self.conv2 = nn.Conv2d(n_chansl, n_chansl//2, kernel_size=3, padding=1)\n",
        "        self.conv2_dropout = nn.Dropout2d(p=0.4)\n",
        "        self.fc1 = nn.Linear(8*8*n_chansl//2, n_chansl)\n",
        "        self.fc2 = nn.Linear(n_chansl, 2)\n",
        "\n",
        "    def forward(self, x):\n",
        "        out = F.max_pool2d(torch.tanh(self.conv1(x)), 2)\n",
        "        out = self.conv1_dropout(out)\n",
        "        out = F.max_pool2d(torch.tanh(self.conv2(out)), 2)\n",
        "        out = self.conv2_dropout(out)\n",
        "        out = out.view(-1, 8*8*self.n_chansl//2)\n",
        "        out = torch.tanh(self.fc1(out))\n",
        "        out = self.fc2(out)\n",
        "        return out"
      ],
      "metadata": {
        "id": "XtJiBYYKqpih"
      },
      "execution_count": null,
      "outputs": []
    },
    {
      "cell_type": "markdown",
      "source": [
        "### 約束激活函數：批次正規化(Batch Normaliation)\n",
        "原理：重新輸入資料的數值分布，以避免輸入的小批次資料落入激活函數的飽和區域  \n",
        "效益：允許使用更高的學習率、降低訓練效果對初始化的依賴程度，因此成為dropout的替代方案  \n"
      ],
      "metadata": {
        "id": "jzmf0opmvmu1"
      }
    },
    {
      "cell_type": "code",
      "source": [
        "class NetBatchNorm(nn.Module):\n",
        "    def __init__(self, n_chansl=32):\n",
        "        super().__init__()\n",
        "        self.n_chansl = n_chansl\n",
        "        self.conv1 = nn.Conv2d(3, n_chansl, kernel_size=3, padding=1)\n",
        "        self.conv1_batchnorm = nn.BatchNorm2d(num_feature = n_chansl)\n",
        "        self.conv2 = nn.Conv2d(n_chansl, n_chansl//2, kernel_size=3, padding=1)\n",
        "        self.conv2_batchnorm = nn.BatchNorm2d(num_features= n_chansl//2)\n",
        "        self.fc1 = nn.Linear(8*8*n_chansl//2, n_chansl)\n",
        "        self.fc2 = nn.Linear(n_chansl, 2)\n",
        "\n",
        "    def forward(self, x):\n",
        "        out = self.couv1_batchnorm(self.conv1(x))\n",
        "        out = F.max_pool2d(torch.tanh(out), 2)\n",
        "        out = self.conv2_batchnorm(self.conv1(out))\n",
        "        out = F.max_pool2d(torch.tanh(out), 2)\n",
        "        out = out.view(-1, 8*8*self.n_chansl//2)\n",
        "        out = torch.tanh(self.fcl(out))\n",
        "        out = self.fc2(out)\n",
        "        return out"
      ],
      "metadata": {
        "id": "u8Sbc72GwyGG"
      },
      "execution_count": null,
      "outputs": []
    },
    {
      "cell_type": "markdown",
      "source": [
        "# 深入探索更複雜的結構：深度"
      ],
      "metadata": {
        "id": "UHbB8J_ry1AP"
      }
    },
    {
      "cell_type": "markdown",
      "source": [
        "### 跳躍連接(skip connections)"
      ],
      "metadata": {
        "id": "m5hcymf9y9YL"
      }
    },
    {
      "cell_type": "code",
      "source": [
        "class NetDepth(nn.Module):\n",
        "    def __init__(self, n_chansl=32):\n",
        "        super().__init__()\n",
        "        self.n_chansl = n_chansl\n",
        "        self.conv1 = nn.Conv2d(3, n_chansl, kernel_size=3, padding=1)\n",
        "        self.conv2 = nn.Conv2d(n_chansl, n_chansl//2, kernel_size=3, padding=1)\n",
        "        self.conv3 = nn.Conv2d(n_chansl//2, n_chansl//4, kernel_size=3, padding=1)\n",
        "        self.fc1 = nn.Linear(4*4*n_chansl//4, 32)\n",
        "        self.fc2 = nn.Linear(32, 2)\n",
        "\n",
        "    def forward(self, x):\n",
        "        out = F.max_pool2d(torch.relu(self.conv1(x)), 2)\n",
        "        out = F.max_pool2d(torch.relu(self.conv2(out)), 2)\n",
        "        out = F.max_pool2d(torch.relu(self.conv3(out)), 2)\n",
        "        out = out.view(-1, 4*4*self.n_chansl//4)\n",
        "        out = torch.relu(self.fc1(out))\n",
        "        out = self.fc2(out)\n",
        "        return out"
      ],
      "metadata": {
        "id": "93wexAO5zNW1"
      },
      "execution_count": null,
      "outputs": []
    },
    {
      "cell_type": "markdown",
      "source": [
        "- 殘差網路(residual network, ResNets)"
      ],
      "metadata": {
        "id": "HeRkpgyHzbQw"
      }
    },
    {
      "cell_type": "code",
      "source": [
        "class NetRes(nn.Module):\n",
        "    def __init__(self, n_chansl=32):\n",
        "        super().__init__()\n",
        "        self.n_chansl = n_chansl\n",
        "        self.conv1 = nn.Conv2d(3, n_chansl, kermel_size=3, padding=1)\n",
        "        self.conv2 = nn.Conv2d(n_chansl, n_chansl//2, kernel_size=3, padding=1)\n",
        "        self.conv3 = nn.Conv2d(n_chansl//2, n_chansl//4, kernel_size=3, padding=1)\n",
        "\n",
        "        self.fc1 = nn.Linear(4*4*n_chansl//4, n_chansl)\n",
        "        self.fc2 = nn.Linear(n_chansl, 2)\n",
        "\n",
        "    def forward(self, x):\n",
        "        out = F.max_pool2d(torch.tanh(self.conv1(x)),2)\n",
        "        out = F.max_pool2d(torch.tanh(self.conv2(out)), 2)\n",
        "        out1 = out\n",
        "        out = F.max_pool2d(torch.relu(self.conv3(out)) + out1, 2) #殘差處理\n",
        "        out = out.view(-1, 4*4*self.n_chansl//4)\n",
        "        out = torch.relu(self.fc1(out))\n",
        "        out = self.fc2(out)\n",
        "        return out"
      ],
      "metadata": {
        "id": "ddDrSr3nzcFg"
      },
      "execution_count": null,
      "outputs": []
    },
    {
      "cell_type": "markdown",
      "source": [
        "### 利用Pytorch建立非常深層的模型\n",
        "若要建立深度大於20以上的神經網路  \n",
        "建議建立殘差塊，會大幅減少程式的記憶體空間"
      ],
      "metadata": {
        "id": "XkzD7otXzy1U"
      }
    },
    {
      "cell_type": "code",
      "source": [
        "class ResBlock(nn.Module):\n",
        "    def __init__(self, n_chansl):\n",
        "        super(ResBlock, self).__init__()\n",
        "        self.conv = nn.Conv2d(n_chansl, n_chansl, kernel_size=3, padding=1, bias=False) #因為BatchNorm層會抵消偏值的作用，因此這裡將bias設為False\n",
        "        self.batch_norm = nn.BatchNorm2d(num_features=n_chansl)\n",
        "        torch.nn.init.kaiming_normal_(self.conv.weight, nonlinearity='relu') #這裡使用了客製化的初始方法.kaiming_normal_, 在初始階段，batch_norm的分布平均值為0，標準差0.5\n",
        "        torch.nn.init.constant_(self.batch_norm.weight, 0.5)\n",
        "        torch.nn.init.zeros_(self.batch_norm.bias)\n",
        "\n",
        "    def forward(self, x):\n",
        "        out = self.conv(x)\n",
        "        out = self.batch_norm(out)\n",
        "        out = torch.relu(out)\n",
        "        return\n",
        "\n",
        "\n",
        "class NetResDeep(nn.Module):\n",
        "    def __init__(self, n_chansl=32, n_blocks=20):\n",
        "        super().__init__()\n",
        "        self.n_chansl = n_chansl\n",
        "        self.conv1 = nn.Conv2d(3, n_chansl, kernal_size=3, padding=1)\n",
        "        self.resblock = nn.Sequential( *(n_blocks * [ResBlock(n_chansl=n_chansl)]))\n",
        "        self.fc1 = nn.Linear(8*8*n_chansl, 32)\n",
        "        self.fc2 = nn.Linear(n_chansl, 2)\n",
        "\n",
        "    def forward(self, x):\n",
        "        out = F.max_pool2d(torch.relu(self.conv1(x)), 2)\n",
        "        out = self.resblocks(out)\n",
        "        out = F.max_pool2d(out, 2)\n",
        "        out = out.view(-1, 8*8*self.n_chansl)\n",
        "        out = torch.relu(self.fc1(out))\n",
        "        out = self.fc2(out)\n",
        "        return out"
      ],
      "metadata": {
        "id": "e0Cas1etzm1z"
      },
      "execution_count": null,
      "outputs": []
    },
    {
      "cell_type": "code",
      "source": [],
      "metadata": {
        "id": "XYSzqVmh6hYt"
      },
      "execution_count": null,
      "outputs": []
    }
  ]
}